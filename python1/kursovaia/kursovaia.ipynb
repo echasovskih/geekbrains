{
 "cells": [
  {
   "cell_type": "code",
   "execution_count": 614,
   "metadata": {},
   "outputs": [],
   "source": [
    "import pandas as pd\n",
    "import numpy as np\n",
    "import warnings\n",
    "from sklearn.model_selection import train_test_split\n",
    "from sklearn.linear_model import LinearRegression as LR, Ridge\n",
    "from sklearn.ensemble import RandomForestRegressor as RF\n",
    "from sklearn.metrics import r2_score as r2,mean_squared_error as MSE\n",
    "warnings.filterwarnings('ignore')\n",
    "from sklearn.model_selection import cross_val_score, GridSearchCV"
   ]
  },
  {
   "cell_type": "code",
   "execution_count": 655,
   "metadata": {},
   "outputs": [],
   "source": [
    "df=pd.read_csv('train.csv')"
   ]
  },
  {
   "cell_type": "code",
   "execution_count": 743,
   "metadata": {},
   "outputs": [],
   "source": [
    "data=df.copy()\n",
    "data.drop(['Healthcare_1'],axis=1,inplace=True)"
   ]
  },
  {
   "cell_type": "code",
   "execution_count": 744,
   "metadata": {},
   "outputs": [],
   "source": [
    "#гипотеза №2\n",
    "data.loc[377,'Rooms']=2\n",
    "data.loc[1454,'Rooms']=1\n",
    "data.loc[8849,'Rooms']=2\n",
    "data.loc[1397,'Rooms']=4\n",
    "data.loc[1981,'Rooms']=5\n",
    "data.loc[2269,'Rooms']=1\n",
    "data.loc[3911,'Rooms']=1\n",
    "data.loc[4366,'Rooms']=3\n",
    "data.loc[6149,'Rooms']=1\n",
    "data.loc[8834,'Rooms']=3\n",
    "data.loc[4853,'Rooms']=1"
   ]
  },
  {
   "cell_type": "code",
   "execution_count": 745,
   "metadata": {},
   "outputs": [],
   "source": [
    "def prepare_square(df):\n",
    "    df.loc[df['Square']<(df['Rooms']*15),'Square']=df['Rooms']*15\n",
    "   # df.loc[df['Square']>(df['Rooms']*40+20),'Square']=df['Rooms']*40+20\n",
    "    return df"
   ]
  },
  {
   "cell_type": "code",
   "execution_count": 746,
   "metadata": {},
   "outputs": [],
   "source": [
    "data=prepare_square(data)"
   ]
  },
  {
   "cell_type": "code",
   "execution_count": 747,
   "metadata": {},
   "outputs": [],
   "source": [
    "data['price_square'] = data['Price'] / data['Square']"
   ]
  },
  {
   "cell_type": "code",
   "execution_count": 748,
   "metadata": {},
   "outputs": [],
   "source": [
    "data['LifeSquare'] = data['LifeSquare'].fillna(data['LifeSquare'].mean())"
   ]
  },
  {
   "cell_type": "code",
   "execution_count": 749,
   "metadata": {},
   "outputs": [],
   "source": [
    "train,test=train_test_split(data,test_size=0.3, random_state=54)"
   ]
  },
  {
   "cell_type": "code",
   "execution_count": 750,
   "metadata": {},
   "outputs": [],
   "source": [
    "price_mean_by_distr_square=train.groupby(['DistrictId'],as_index=False).agg({'price_square':'mean'}).rename(columns={'price_square':'mean_price_by_ds'})"
   ]
  },
  {
   "cell_type": "code",
   "execution_count": 673,
   "metadata": {},
   "outputs": [
    {
     "data": {
      "text/html": [
       "<div>\n",
       "<style scoped>\n",
       "    .dataframe tbody tr th:only-of-type {\n",
       "        vertical-align: middle;\n",
       "    }\n",
       "\n",
       "    .dataframe tbody tr th {\n",
       "        vertical-align: top;\n",
       "    }\n",
       "\n",
       "    .dataframe thead th {\n",
       "        text-align: right;\n",
       "    }\n",
       "</style>\n",
       "<table border=\"1\" class=\"dataframe\">\n",
       "  <thead>\n",
       "    <tr style=\"text-align: right;\">\n",
       "      <th></th>\n",
       "      <th>DistrictId</th>\n",
       "      <th>Rooms</th>\n",
       "      <th>mean_price_by_ds</th>\n",
       "    </tr>\n",
       "  </thead>\n",
       "  <tbody>\n",
       "    <tr>\n",
       "      <th>0</th>\n",
       "      <td>0</td>\n",
       "      <td>1.0</td>\n",
       "      <td>4175.774657</td>\n",
       "    </tr>\n",
       "    <tr>\n",
       "      <th>1</th>\n",
       "      <td>0</td>\n",
       "      <td>2.0</td>\n",
       "      <td>3560.242068</td>\n",
       "    </tr>\n",
       "    <tr>\n",
       "      <th>2</th>\n",
       "      <td>0</td>\n",
       "      <td>3.0</td>\n",
       "      <td>4280.427935</td>\n",
       "    </tr>\n",
       "    <tr>\n",
       "      <th>3</th>\n",
       "      <td>1</td>\n",
       "      <td>1.0</td>\n",
       "      <td>3403.793451</td>\n",
       "    </tr>\n",
       "    <tr>\n",
       "      <th>4</th>\n",
       "      <td>1</td>\n",
       "      <td>2.0</td>\n",
       "      <td>3202.860630</td>\n",
       "    </tr>\n",
       "  </tbody>\n",
       "</table>\n",
       "</div>"
      ],
      "text/plain": [
       "   DistrictId  Rooms  mean_price_by_ds\n",
       "0           0    1.0       4175.774657\n",
       "1           0    2.0       3560.242068\n",
       "2           0    3.0       4280.427935\n",
       "3           1    1.0       3403.793451\n",
       "4           1    2.0       3202.860630"
      ]
     },
     "execution_count": 673,
     "metadata": {},
     "output_type": "execute_result"
    }
   ],
   "source": [
    "price_mean_by_distr_square.head()"
   ]
  },
  {
   "cell_type": "code",
   "execution_count": 751,
   "metadata": {},
   "outputs": [],
   "source": [
    "def join_price_mean(df,stats1,source_df):\n",
    "    df=pd.merge(df,stats1,on=['DistrictId'],how='left')\n",
    "    df['mean_price_by_ds']=df['mean_price_by_ds'].fillna(source_df['price_square'].mean())\n",
    "    return df"
   ]
  },
  {
   "cell_type": "code",
   "execution_count": 752,
   "metadata": {},
   "outputs": [],
   "source": [
    "train = join_price_mean(train,price_mean_by_distr_square,train)"
   ]
  },
  {
   "cell_type": "code",
   "execution_count": 753,
   "metadata": {},
   "outputs": [
    {
     "name": "stdout",
     "output_type": "stream",
     "text": [
      "Price               1.000000\n",
      "price_square        0.594004\n",
      "Rooms               0.574945\n",
      "mean_price_by_ds    0.547718\n",
      "Square              0.501587\n",
      "LifeSquare          0.314351\n",
      "Social_1            0.269122\n",
      "Helthcare_2         0.257421\n",
      "DistrictId          0.255619\n",
      "Social_2            0.243029\n",
      "Shops_1             0.182023\n",
      "Floor               0.114123\n",
      "Social_3            0.070582\n",
      "HouseFloor          0.069637\n",
      "KitchenSquare       0.018351\n",
      "Id                  0.010019\n",
      "HouseYear           0.005143\n",
      "Ecology_1          -0.060091\n",
      "Name: Price, dtype: float64\n"
     ]
    }
   ],
   "source": [
    "correlation = train.corr()\n",
    "print(correlation['Price'].sort_values(ascending=False))"
   ]
  },
  {
   "cell_type": "code",
   "execution_count": 754,
   "metadata": {},
   "outputs": [],
   "source": [
    "X_train=train[['Rooms','Square','DistrictId','Social_1','Helthcare_2','Social_2','mean_price_by_ds']]\n",
    "y_train=train['Price']"
   ]
  },
  {
   "cell_type": "code",
   "execution_count": 755,
   "metadata": {},
   "outputs": [],
   "source": [
    "from sklearn.preprocessing import MinMaxScaler\n",
    "\n",
    "scaler = MinMaxScaler()\n",
    "\n",
    "X_train_scaled = pd.DataFrame(scaler.fit_transform(X_train), columns=X_train.columns)\n",
    "#X_test_scaled = pd.DataFrame(scaler.transform(X_test), columns=X_test.columns)"
   ]
  },
  {
   "cell_type": "code",
   "execution_count": 756,
   "metadata": {},
   "outputs": [
    {
     "name": "stdout",
     "output_type": "stream",
     "text": [
      "{'max_depth': 6, 'min_samples_leaf': 7, 'n_estimators': 100}\n"
     ]
    }
   ],
   "source": [
    "def rfr_model(X, y):\n",
    "# Perform Grid-Search\n",
    "    gsc = GridSearchCV(\n",
    "        estimator=RF(),\n",
    "        param_grid={\n",
    "            'max_depth': range(3,7),\n",
    "            'n_estimators': (10, 50, 100),\n",
    "            'min_samples_leaf':[3,5,7,10]\n",
    "        },\n",
    "        cv=5, scoring='neg_mean_squared_error', verbose=0,                         n_jobs=-1)\n",
    "    \n",
    "    grid_result = gsc.fit(X, y)\n",
    "    best_params = grid_result.best_params_\n",
    "    print(best_params)\n",
    "    \n",
    "rfr_model(X_train_scaled,y_train)"
   ]
  },
  {
   "cell_type": "code",
   "execution_count": 757,
   "metadata": {},
   "outputs": [],
   "source": [
    "model3=RF(random_state=54,max_depth=6,n_estimators=100,min_samples_leaf=7)"
   ]
  },
  {
   "cell_type": "code",
   "execution_count": 681,
   "metadata": {},
   "outputs": [],
   "source": [
    "from sklearn.cluster import KMeans\n"
   ]
  },
  {
   "cell_type": "code",
   "execution_count": 758,
   "metadata": {},
   "outputs": [],
   "source": [
    "kmeans = KMeans(n_clusters=2,random_state=54)\n",
    "\n",
    "labels_train = kmeans.fit_predict(X_train_scaled)\n",
    "\n"
   ]
  },
  {
   "cell_type": "code",
   "execution_count": 759,
   "metadata": {},
   "outputs": [
    {
     "name": "stdout",
     "output_type": "stream",
     "text": [
      "Wall time: 644 ms\n"
     ]
    },
    {
     "data": {
      "text/plain": [
       "RandomForestRegressor(bootstrap=True, criterion='mse', max_depth=6,\n",
       "           max_features='auto', max_leaf_nodes=None,\n",
       "           min_impurity_decrease=0.0, min_impurity_split=None,\n",
       "           min_samples_leaf=7, min_samples_split=2,\n",
       "           min_weight_fraction_leaf=0.0, n_estimators=100, n_jobs=None,\n",
       "           oob_score=False, random_state=54, verbose=0, warm_start=False)"
      ]
     },
     "execution_count": 759,
     "metadata": {},
     "output_type": "execute_result"
    }
   ],
   "source": [
    "%%time\n",
    "model3.fit(X_train_scaled,y_train)"
   ]
  },
  {
   "cell_type": "code",
   "execution_count": 760,
   "metadata": {},
   "outputs": [],
   "source": [
    "test = join_price_mean(test,price_mean_by_distr_square,train)"
   ]
  },
  {
   "cell_type": "code",
   "execution_count": 742,
   "metadata": {},
   "outputs": [
    {
     "name": "stdout",
     "output_type": "stream",
     "text": [
      "<class 'pandas.core.frame.DataFrame'>\n",
      "Int64Index: 3000 entries, 0 to 2999\n",
      "Data columns (total 21 columns):\n",
      "Id                  3000 non-null int64\n",
      "DistrictId          3000 non-null int64\n",
      "Rooms               3000 non-null float64\n",
      "Square              3000 non-null float64\n",
      "LifeSquare          3000 non-null float64\n",
      "KitchenSquare       3000 non-null float64\n",
      "Floor               3000 non-null int64\n",
      "HouseFloor          3000 non-null float64\n",
      "HouseYear           3000 non-null int64\n",
      "Ecology_1           3000 non-null float64\n",
      "Ecology_2           3000 non-null object\n",
      "Ecology_3           3000 non-null object\n",
      "Social_1            3000 non-null int64\n",
      "Social_2            3000 non-null int64\n",
      "Social_3            3000 non-null int64\n",
      "Helthcare_2         3000 non-null int64\n",
      "Shops_1             3000 non-null int64\n",
      "Shops_2             3000 non-null object\n",
      "Price               3000 non-null float64\n",
      "price_square        3000 non-null float64\n",
      "mean_price_by_ds    3000 non-null float64\n",
      "dtypes: float64(9), int64(9), object(3)\n",
      "memory usage: 515.6+ KB\n"
     ]
    }
   ],
   "source": [
    "test.info()"
   ]
  },
  {
   "cell_type": "code",
   "execution_count": 761,
   "metadata": {},
   "outputs": [],
   "source": [
    "X_test=test[['Rooms','Square','DistrictId','Social_1','Helthcare_2','Social_2','mean_price_by_ds']]\n",
    "y_test=test['Price']"
   ]
  },
  {
   "cell_type": "code",
   "execution_count": 762,
   "metadata": {},
   "outputs": [],
   "source": [
    "X_test_scaled = pd.DataFrame(scaler.transform(X_test), columns=X_test.columns)"
   ]
  },
  {
   "cell_type": "code",
   "execution_count": 763,
   "metadata": {},
   "outputs": [],
   "source": [
    "y_pred_3=model3.predict(X_test_scaled)"
   ]
  },
  {
   "cell_type": "code",
   "execution_count": 764,
   "metadata": {},
   "outputs": [
    {
     "name": "stdout",
     "output_type": "stream",
     "text": [
      "Случайный лес 2668039084.288804 0.687705909190593\n"
     ]
    }
   ],
   "source": [
    "print('Случайный лес',MSE(y_test,y_pred_3),r2(y_test,y_pred_3))"
   ]
  },
  {
   "cell_type": "code",
   "execution_count": 765,
   "metadata": {},
   "outputs": [
    {
     "data": {
      "text/plain": [
       "0.7673982820122058"
      ]
     },
     "execution_count": 765,
     "metadata": {},
     "output_type": "execute_result"
    }
   ],
   "source": [
    "r2(y_train,model3.predict(X_train_scaled))"
   ]
  },
  {
   "cell_type": "code",
   "execution_count": 713,
   "metadata": {},
   "outputs": [],
   "source": [
    "labels_test = kmeans.predict(X_test_scaled)"
   ]
  },
  {
   "cell_type": "code",
   "execution_count": 766,
   "metadata": {},
   "outputs": [],
   "source": [
    "model3.fit(X_train_scaled.loc[labels_train == 0], y_train[labels_train == 0])\n",
    "\n",
    "y_test_pred_0 = model3.predict(X_test_scaled.loc[labels_test == 0])"
   ]
  },
  {
   "cell_type": "code",
   "execution_count": 767,
   "metadata": {},
   "outputs": [],
   "source": [
    "model3.fit(X_train_scaled.loc[labels_train == 1], y_train[labels_train == 1])\n",
    "\n",
    "y_test_pred_1 = model3.predict(X_test_scaled.loc[labels_test == 1])"
   ]
  },
  {
   "cell_type": "code",
   "execution_count": 768,
   "metadata": {},
   "outputs": [
    {
     "data": {
      "text/plain": [
       "0.687944613913841"
      ]
     },
     "execution_count": 768,
     "metadata": {},
     "output_type": "execute_result"
    }
   ],
   "source": [
    "y_test_all = np.hstack([y_test[labels_test == 0], y_test[labels_test == 1]])\n",
    "y_test_pred_all = np.hstack([y_test_pred_0, y_test_pred_1])\n",
    "\n",
    "r2(y_test_all, y_test_pred_all)"
   ]
  },
  {
   "cell_type": "code",
   "execution_count": 769,
   "metadata": {},
   "outputs": [],
   "source": [
    "price_mean_by_distr_square=data.groupby(['DistrictId'],as_index=False).agg({'price_square':'mean'}).rename(columns={'price_square':'mean_price_by_ds'})"
   ]
  },
  {
   "cell_type": "code",
   "execution_count": 770,
   "metadata": {},
   "outputs": [],
   "source": [
    "data = join_price_mean(data,price_mean_by_distr_square,data)"
   ]
  },
  {
   "cell_type": "code",
   "execution_count": 771,
   "metadata": {},
   "outputs": [],
   "source": [
    "X = data[['Rooms','Square','DistrictId','Social_1','Helthcare_2','Social_2','mean_price_by_ds']]\n",
    "y = data['Price']"
   ]
  },
  {
   "cell_type": "code",
   "execution_count": 772,
   "metadata": {},
   "outputs": [],
   "source": [
    "X_scaled = pd.DataFrame(scaler.transform(X), columns=X.columns)"
   ]
  },
  {
   "cell_type": "code",
   "execution_count": 773,
   "metadata": {},
   "outputs": [
    {
     "data": {
      "text/plain": [
       "RandomForestRegressor(bootstrap=True, criterion='mse', max_depth=6,\n",
       "           max_features='auto', max_leaf_nodes=None,\n",
       "           min_impurity_decrease=0.0, min_impurity_split=None,\n",
       "           min_samples_leaf=7, min_samples_split=2,\n",
       "           min_weight_fraction_leaf=0.0, n_estimators=100, n_jobs=None,\n",
       "           oob_score=False, random_state=54, verbose=0, warm_start=False)"
      ]
     },
     "execution_count": 773,
     "metadata": {},
     "output_type": "execute_result"
    }
   ],
   "source": [
    "model3.fit(X_scaled,y)"
   ]
  },
  {
   "cell_type": "markdown",
   "metadata": {},
   "source": [
    "# Загружаем тест"
   ]
  },
  {
   "cell_type": "code",
   "execution_count": 774,
   "metadata": {},
   "outputs": [],
   "source": [
    "test=pd.read_csv('test.csv')"
   ]
  },
  {
   "cell_type": "code",
   "execution_count": 77,
   "metadata": {},
   "outputs": [
    {
     "name": "stdout",
     "output_type": "stream",
     "text": [
      "<class 'pandas.core.frame.DataFrame'>\n",
      "RangeIndex: 5000 entries, 0 to 4999\n",
      "Data columns (total 19 columns):\n",
      "Id               5000 non-null int64\n",
      "DistrictId       5000 non-null int64\n",
      "Rooms            5000 non-null float64\n",
      "Square           5000 non-null float64\n",
      "LifeSquare       3959 non-null float64\n",
      "KitchenSquare    5000 non-null float64\n",
      "Floor            5000 non-null int64\n",
      "HouseFloor       5000 non-null float64\n",
      "HouseYear        5000 non-null int64\n",
      "Ecology_1        5000 non-null float64\n",
      "Ecology_2        5000 non-null object\n",
      "Ecology_3        5000 non-null object\n",
      "Social_1         5000 non-null int64\n",
      "Social_2         5000 non-null int64\n",
      "Social_3         5000 non-null int64\n",
      "Healthcare_1     2623 non-null float64\n",
      "Helthcare_2      5000 non-null int64\n",
      "Shops_1          5000 non-null int64\n",
      "Shops_2          5000 non-null object\n",
      "dtypes: float64(7), int64(9), object(3)\n",
      "memory usage: 742.3+ KB\n"
     ]
    }
   ],
   "source": [
    "test.info()"
   ]
  },
  {
   "cell_type": "code",
   "execution_count": 80,
   "metadata": {},
   "outputs": [
    {
     "data": {
      "text/html": [
       "<div>\n",
       "<style scoped>\n",
       "    .dataframe tbody tr th:only-of-type {\n",
       "        vertical-align: middle;\n",
       "    }\n",
       "\n",
       "    .dataframe tbody tr th {\n",
       "        vertical-align: top;\n",
       "    }\n",
       "\n",
       "    .dataframe thead th {\n",
       "        text-align: right;\n",
       "    }\n",
       "</style>\n",
       "<table border=\"1\" class=\"dataframe\">\n",
       "  <thead>\n",
       "    <tr style=\"text-align: right;\">\n",
       "      <th></th>\n",
       "      <th>Id</th>\n",
       "      <th>DistrictId</th>\n",
       "      <th>Rooms</th>\n",
       "      <th>Square</th>\n",
       "      <th>LifeSquare</th>\n",
       "      <th>KitchenSquare</th>\n",
       "      <th>Floor</th>\n",
       "      <th>HouseFloor</th>\n",
       "      <th>HouseYear</th>\n",
       "      <th>Ecology_1</th>\n",
       "      <th>Social_1</th>\n",
       "      <th>Social_2</th>\n",
       "      <th>Social_3</th>\n",
       "      <th>Healthcare_1</th>\n",
       "      <th>Helthcare_2</th>\n",
       "      <th>Shops_1</th>\n",
       "    </tr>\n",
       "  </thead>\n",
       "  <tbody>\n",
       "    <tr>\n",
       "      <th>count</th>\n",
       "      <td>5000.000000</td>\n",
       "      <td>5000.000000</td>\n",
       "      <td>5000.000000</td>\n",
       "      <td>5000.000000</td>\n",
       "      <td>3959.000000</td>\n",
       "      <td>5000.000000</td>\n",
       "      <td>5000.000000</td>\n",
       "      <td>5000.000000</td>\n",
       "      <td>5000.000000</td>\n",
       "      <td>5000.000000</td>\n",
       "      <td>5000.000000</td>\n",
       "      <td>5000.000000</td>\n",
       "      <td>5000.000000</td>\n",
       "      <td>2623.000000</td>\n",
       "      <td>5000.00000</td>\n",
       "      <td>5000.000000</td>\n",
       "    </tr>\n",
       "    <tr>\n",
       "      <th>mean</th>\n",
       "      <td>8412.595400</td>\n",
       "      <td>51.279200</td>\n",
       "      <td>1.910000</td>\n",
       "      <td>56.246558</td>\n",
       "      <td>36.158810</td>\n",
       "      <td>5.976800</td>\n",
       "      <td>8.632000</td>\n",
       "      <td>12.601000</td>\n",
       "      <td>1984.392600</td>\n",
       "      <td>0.119874</td>\n",
       "      <td>24.933800</td>\n",
       "      <td>5406.900000</td>\n",
       "      <td>8.262600</td>\n",
       "      <td>1146.657263</td>\n",
       "      <td>1.31940</td>\n",
       "      <td>4.242800</td>\n",
       "    </tr>\n",
       "    <tr>\n",
       "      <th>std</th>\n",
       "      <td>4832.674037</td>\n",
       "      <td>44.179466</td>\n",
       "      <td>0.838594</td>\n",
       "      <td>18.724156</td>\n",
       "      <td>17.825287</td>\n",
       "      <td>9.950018</td>\n",
       "      <td>5.483228</td>\n",
       "      <td>6.789213</td>\n",
       "      <td>18.573149</td>\n",
       "      <td>0.120070</td>\n",
       "      <td>17.532202</td>\n",
       "      <td>4026.614773</td>\n",
       "      <td>23.863762</td>\n",
       "      <td>1044.744231</td>\n",
       "      <td>1.47994</td>\n",
       "      <td>4.777365</td>\n",
       "    </tr>\n",
       "    <tr>\n",
       "      <th>min</th>\n",
       "      <td>1.000000</td>\n",
       "      <td>0.000000</td>\n",
       "      <td>0.000000</td>\n",
       "      <td>15.000000</td>\n",
       "      <td>0.333490</td>\n",
       "      <td>0.000000</td>\n",
       "      <td>1.000000</td>\n",
       "      <td>0.000000</td>\n",
       "      <td>1908.000000</td>\n",
       "      <td>0.000000</td>\n",
       "      <td>0.000000</td>\n",
       "      <td>168.000000</td>\n",
       "      <td>0.000000</td>\n",
       "      <td>0.000000</td>\n",
       "      <td>0.00000</td>\n",
       "      <td>0.000000</td>\n",
       "    </tr>\n",
       "    <tr>\n",
       "      <th>25%</th>\n",
       "      <td>4221.750000</td>\n",
       "      <td>21.000000</td>\n",
       "      <td>1.000000</td>\n",
       "      <td>41.906231</td>\n",
       "      <td>23.092026</td>\n",
       "      <td>1.000000</td>\n",
       "      <td>4.000000</td>\n",
       "      <td>9.000000</td>\n",
       "      <td>1973.000000</td>\n",
       "      <td>0.019509</td>\n",
       "      <td>6.000000</td>\n",
       "      <td>1564.000000</td>\n",
       "      <td>0.000000</td>\n",
       "      <td>325.000000</td>\n",
       "      <td>0.00000</td>\n",
       "      <td>1.000000</td>\n",
       "    </tr>\n",
       "    <tr>\n",
       "      <th>50%</th>\n",
       "      <td>8320.500000</td>\n",
       "      <td>37.000000</td>\n",
       "      <td>2.000000</td>\n",
       "      <td>52.921340</td>\n",
       "      <td>32.925087</td>\n",
       "      <td>6.000000</td>\n",
       "      <td>7.000000</td>\n",
       "      <td>12.000000</td>\n",
       "      <td>1977.000000</td>\n",
       "      <td>0.072158</td>\n",
       "      <td>25.000000</td>\n",
       "      <td>5285.000000</td>\n",
       "      <td>2.000000</td>\n",
       "      <td>900.000000</td>\n",
       "      <td>1.00000</td>\n",
       "      <td>3.000000</td>\n",
       "    </tr>\n",
       "    <tr>\n",
       "      <th>75%</th>\n",
       "      <td>12598.250000</td>\n",
       "      <td>77.000000</td>\n",
       "      <td>2.000000</td>\n",
       "      <td>65.978190</td>\n",
       "      <td>45.174091</td>\n",
       "      <td>9.000000</td>\n",
       "      <td>12.000000</td>\n",
       "      <td>17.000000</td>\n",
       "      <td>2000.000000</td>\n",
       "      <td>0.195781</td>\n",
       "      <td>36.000000</td>\n",
       "      <td>7287.000000</td>\n",
       "      <td>5.000000</td>\n",
       "      <td>1548.000000</td>\n",
       "      <td>2.00000</td>\n",
       "      <td>6.000000</td>\n",
       "    </tr>\n",
       "    <tr>\n",
       "      <th>max</th>\n",
       "      <td>16795.000000</td>\n",
       "      <td>212.000000</td>\n",
       "      <td>17.000000</td>\n",
       "      <td>255.000000</td>\n",
       "      <td>303.071094</td>\n",
       "      <td>620.000000</td>\n",
       "      <td>78.000000</td>\n",
       "      <td>99.000000</td>\n",
       "      <td>2020.000000</td>\n",
       "      <td>0.521867</td>\n",
       "      <td>74.000000</td>\n",
       "      <td>19083.000000</td>\n",
       "      <td>141.000000</td>\n",
       "      <td>4849.000000</td>\n",
       "      <td>6.00000</td>\n",
       "      <td>23.000000</td>\n",
       "    </tr>\n",
       "  </tbody>\n",
       "</table>\n",
       "</div>"
      ],
      "text/plain": [
       "                 Id   DistrictId        Rooms       Square   LifeSquare  \\\n",
       "count   5000.000000  5000.000000  5000.000000  5000.000000  3959.000000   \n",
       "mean    8412.595400    51.279200     1.910000    56.246558    36.158810   \n",
       "std     4832.674037    44.179466     0.838594    18.724156    17.825287   \n",
       "min        1.000000     0.000000     0.000000    15.000000     0.333490   \n",
       "25%     4221.750000    21.000000     1.000000    41.906231    23.092026   \n",
       "50%     8320.500000    37.000000     2.000000    52.921340    32.925087   \n",
       "75%    12598.250000    77.000000     2.000000    65.978190    45.174091   \n",
       "max    16795.000000   212.000000    17.000000   255.000000   303.071094   \n",
       "\n",
       "       KitchenSquare        Floor   HouseFloor    HouseYear    Ecology_1  \\\n",
       "count    5000.000000  5000.000000  5000.000000  5000.000000  5000.000000   \n",
       "mean        5.976800     8.632000    12.601000  1984.392600     0.119874   \n",
       "std         9.950018     5.483228     6.789213    18.573149     0.120070   \n",
       "min         0.000000     1.000000     0.000000  1908.000000     0.000000   \n",
       "25%         1.000000     4.000000     9.000000  1973.000000     0.019509   \n",
       "50%         6.000000     7.000000    12.000000  1977.000000     0.072158   \n",
       "75%         9.000000    12.000000    17.000000  2000.000000     0.195781   \n",
       "max       620.000000    78.000000    99.000000  2020.000000     0.521867   \n",
       "\n",
       "          Social_1      Social_2     Social_3  Healthcare_1  Helthcare_2  \\\n",
       "count  5000.000000   5000.000000  5000.000000   2623.000000   5000.00000   \n",
       "mean     24.933800   5406.900000     8.262600   1146.657263      1.31940   \n",
       "std      17.532202   4026.614773    23.863762   1044.744231      1.47994   \n",
       "min       0.000000    168.000000     0.000000      0.000000      0.00000   \n",
       "25%       6.000000   1564.000000     0.000000    325.000000      0.00000   \n",
       "50%      25.000000   5285.000000     2.000000    900.000000      1.00000   \n",
       "75%      36.000000   7287.000000     5.000000   1548.000000      2.00000   \n",
       "max      74.000000  19083.000000   141.000000   4849.000000      6.00000   \n",
       "\n",
       "           Shops_1  \n",
       "count  5000.000000  \n",
       "mean      4.242800  \n",
       "std       4.777365  \n",
       "min       0.000000  \n",
       "25%       1.000000  \n",
       "50%       3.000000  \n",
       "75%       6.000000  \n",
       "max      23.000000  "
      ]
     },
     "execution_count": 80,
     "metadata": {},
     "output_type": "execute_result"
    }
   ],
   "source": [
    "test.describe()"
   ]
  },
  {
   "cell_type": "code",
   "execution_count": 775,
   "metadata": {},
   "outputs": [],
   "source": [
    "test=prepare_square(test)"
   ]
  },
  {
   "cell_type": "code",
   "execution_count": 649,
   "metadata": {},
   "outputs": [],
   "source": [
    "test=join_price_mean(test,price_mean_by_distr_square,data)"
   ]
  },
  {
   "cell_type": "code",
   "execution_count": 650,
   "metadata": {},
   "outputs": [
    {
     "name": "stdout",
     "output_type": "stream",
     "text": [
      "<class 'pandas.core.frame.DataFrame'>\n",
      "Int64Index: 5000 entries, 0 to 4999\n",
      "Data columns (total 20 columns):\n",
      "Id                  5000 non-null int64\n",
      "DistrictId          5000 non-null int64\n",
      "Rooms               5000 non-null float64\n",
      "Square              5000 non-null float64\n",
      "LifeSquare          3959 non-null float64\n",
      "KitchenSquare       5000 non-null float64\n",
      "Floor               5000 non-null int64\n",
      "HouseFloor          5000 non-null float64\n",
      "HouseYear           5000 non-null int64\n",
      "Ecology_1           5000 non-null float64\n",
      "Ecology_2           5000 non-null object\n",
      "Ecology_3           5000 non-null object\n",
      "Social_1            5000 non-null int64\n",
      "Social_2            5000 non-null int64\n",
      "Social_3            5000 non-null int64\n",
      "Healthcare_1        2623 non-null float64\n",
      "Helthcare_2         5000 non-null int64\n",
      "Shops_1             5000 non-null int64\n",
      "Shops_2             5000 non-null object\n",
      "mean_price_by_ds    5000 non-null float64\n",
      "dtypes: float64(8), int64(9), object(3)\n",
      "memory usage: 820.3+ KB\n"
     ]
    }
   ],
   "source": [
    "test.info()"
   ]
  },
  {
   "cell_type": "code",
   "execution_count": 85,
   "metadata": {},
   "outputs": [],
   "source": [
    "test=join_stats1(test,stats1,data,mode='test')"
   ]
  },
  {
   "cell_type": "code",
   "execution_count": 86,
   "metadata": {},
   "outputs": [
    {
     "name": "stdout",
     "output_type": "stream",
     "text": [
      "<class 'pandas.core.frame.DataFrame'>\n",
      "Int64Index: 5000 entries, 0 to 4999\n",
      "Data columns (total 20 columns):\n",
      "Id               5000 non-null int64\n",
      "DistrictId       5000 non-null int64\n",
      "Rooms            5000 non-null float64\n",
      "Square           5000 non-null float64\n",
      "LifeSquare       5000 non-null float64\n",
      "KitchenSquare    5000 non-null float64\n",
      "Floor            5000 non-null int64\n",
      "HouseFloor       5000 non-null float64\n",
      "HouseYear        5000 non-null int64\n",
      "Ecology_1        5000 non-null float64\n",
      "Ecology_2        5000 non-null object\n",
      "Ecology_3        5000 non-null object\n",
      "Social_1         5000 non-null int64\n",
      "Social_2         5000 non-null int64\n",
      "Social_3         5000 non-null int64\n",
      "Healthcare_1     2623 non-null float64\n",
      "Helthcare_2      5000 non-null int64\n",
      "Shops_1          5000 non-null int64\n",
      "Shops_2          5000 non-null object\n",
      "mean_price       5000 non-null float64\n",
      "dtypes: float64(8), int64(9), object(3)\n",
      "memory usage: 820.3+ KB\n"
     ]
    }
   ],
   "source": [
    "test.info()"
   ]
  },
  {
   "cell_type": "code",
   "execution_count": 651,
   "metadata": {},
   "outputs": [],
   "source": [
    "temp=test[['Rooms','Square','DistrictId','Social_1','Helthcare_2','Social_2','mean_price_by_ds']]"
   ]
  },
  {
   "cell_type": "code",
   "execution_count": 652,
   "metadata": {},
   "outputs": [
    {
     "name": "stdout",
     "output_type": "stream",
     "text": [
      "<class 'pandas.core.frame.DataFrame'>\n",
      "Int64Index: 5000 entries, 0 to 4999\n",
      "Data columns (total 7 columns):\n",
      "Rooms               5000 non-null float64\n",
      "Square              5000 non-null float64\n",
      "DistrictId          5000 non-null int64\n",
      "Social_1            5000 non-null int64\n",
      "Helthcare_2         5000 non-null int64\n",
      "Social_2            5000 non-null int64\n",
      "mean_price_by_ds    5000 non-null float64\n",
      "dtypes: float64(3), int64(4)\n",
      "memory usage: 312.5 KB\n"
     ]
    }
   ],
   "source": [
    "temp.info()"
   ]
  },
  {
   "cell_type": "code",
   "execution_count": 653,
   "metadata": {},
   "outputs": [],
   "source": [
    "test['Price']=model3.predict(temp)"
   ]
  },
  {
   "cell_type": "code",
   "execution_count": 654,
   "metadata": {},
   "outputs": [],
   "source": [
    "test[['Id','Price']].to_csv('EChasovskih_predictions.csv',index=False)"
   ]
  },
  {
   "cell_type": "code",
   "execution_count": null,
   "metadata": {},
   "outputs": [],
   "source": []
  }
 ],
 "metadata": {
  "kernelspec": {
   "display_name": "Python 3",
   "language": "python",
   "name": "python3"
  },
  "language_info": {
   "codemirror_mode": {
    "name": "ipython",
    "version": 3
   },
   "file_extension": ".py",
   "mimetype": "text/x-python",
   "name": "python",
   "nbconvert_exporter": "python",
   "pygments_lexer": "ipython3",
   "version": "3.7.3"
  }
 },
 "nbformat": 4,
 "nbformat_minor": 2
}
