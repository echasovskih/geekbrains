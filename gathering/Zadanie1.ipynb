{
 "cells": [
  {
   "cell_type": "code",
   "execution_count": 2,
   "metadata": {},
   "outputs": [],
   "source": [
    "import requests\n",
    "import json"
   ]
  },
  {
   "cell_type": "code",
   "execution_count": 2,
   "metadata": {},
   "outputs": [],
   "source": [
    "user = 'echasovskih'\n",
    "url = 'https://api.github.com/users/{}/repos'.format(user)"
   ]
  },
  {
   "cell_type": "code",
   "execution_count": 3,
   "metadata": {},
   "outputs": [],
   "source": [
    "i = 1\n",
    "replist = {}\n",
    "replist[user]=[]"
   ]
  },
  {
   "cell_type": "code",
   "execution_count": 4,
   "metadata": {},
   "outputs": [],
   "source": [
    "#zadanie1\n",
    "while True:\n",
    "    res = requests.get(url, params={'page': i})\n",
    "    if (res.status_code != 200) or (len(res.json())) == 0:\n",
    "        break\n",
    "    for j in res.json():\n",
    "        replist[user].append(j['name'])\n",
    "    i += 1"
   ]
  },
  {
   "cell_type": "code",
   "execution_count": 5,
   "metadata": {},
   "outputs": [],
   "source": [
    "with open('replist.json', 'w') as outfile:\n",
    "    json.dump(replist, outfile)"
   ]
  },
  {
   "cell_type": "code",
   "execution_count": 23,
   "metadata": {},
   "outputs": [],
   "source": [
    "#zadanie2\n",
    "new_url = 'http://api.scrapestack.com/scrape'\n",
    "key = '197b3bd16f71909c8a0d8d92c5848c75'\n",
    "params = {'access_key': key,\n",
    "         'url': 'http://drom.ru'}\n",
    "new_res = requests.get(new_url, params)"
   ]
  },
  {
   "cell_type": "code",
   "execution_count": 24,
   "metadata": {},
   "outputs": [],
   "source": [
    "f = open('apiresponce.txt', 'w+')\n",
    "f.write(new_res.text)\n",
    "f.close()"
   ]
  },
  {
   "cell_type": "code",
   "execution_count": null,
   "metadata": {},
   "outputs": [],
   "source": []
  }
 ],
 "metadata": {
  "kernelspec": {
   "display_name": "Python 3",
   "language": "python",
   "name": "python3"
  },
  "language_info": {
   "codemirror_mode": {
    "name": "ipython",
    "version": 3
   },
   "file_extension": ".py",
   "mimetype": "text/x-python",
   "name": "python",
   "nbconvert_exporter": "python",
   "pygments_lexer": "ipython3",
   "version": "3.7.3"
  }
 },
 "nbformat": 4,
 "nbformat_minor": 2
}
